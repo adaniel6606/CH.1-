{
  "nbformat": 4,
  "nbformat_minor": 0,
  "metadata": {
    "colab": {
      "name": "Untitled0.ipynb",
      "provenance": [],
      "authorship_tag": "ABX9TyOLxR3Zj1HMwmVQgHq5yc2C",
      "include_colab_link": true
    },
    "kernelspec": {
      "name": "python3",
      "display_name": "Python 3"
    }
  },
  "cells": [
    {
      "cell_type": "markdown",
      "metadata": {
        "id": "view-in-github",
        "colab_type": "text"
      },
      "source": [
        "<a href=\"https://colab.research.google.com/github/adaniel6606/CH.1-/blob/main/Untitled0.ipynb\" target=\"_parent\"><img src=\"https://colab.research.google.com/assets/colab-badge.svg\" alt=\"Open In Colab\"/></a>"
      ]
    },
    {
      "cell_type": "code",
      "metadata": {
        "id": "9WcpJm7uehPZ",
        "outputId": "05930f87-be5b-4538-e909-cf24dd200d2d",
        "colab": {
          "base_uri": "https://localhost:8080/"
        }
      },
      "source": [
        " X = int(input(\"請輸入上衣的數量 \"))\n",
        " Y = int(input(\"請輸入褲子的數量 \"))\n",
        " Z = int(input(\"請輸入背心的數量 \"))\n",
        " Total = 300*X + 350*Y + 400*Z\n",
        "\n",
        " print(\"訂購服裝的總金額\", Total)\n",
        "  \n"
      ],
      "execution_count": 11,
      "outputs": [
        {
          "output_type": "stream",
          "text": [
            "請輸入上衣的數量 5\n",
            "請輸入褲子的數量 5\n",
            "請輸入背心的數量 5\n",
            "訂購服裝的總金額 5250\n"
          ],
          "name": "stdout"
        }
      ]
    }
  ]
}