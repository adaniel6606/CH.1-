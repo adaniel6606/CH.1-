{
  "nbformat": 4,
  "nbformat_minor": 0,
  "metadata": {
    "colab": {
      "name": "Untitled1.ipynb",
      "provenance": [],
      "authorship_tag": "ABX9TyN3CG/fJKr2VfKaOPasBkso",
      "include_colab_link": true
    },
    "kernelspec": {
      "name": "python3",
      "display_name": "Python 3"
    }
  },
  "cells": [
    {
      "cell_type": "markdown",
      "metadata": {
        "id": "view-in-github",
        "colab_type": "text"
      },
      "source": [
        "<a href=\"https://colab.research.google.com/github/adaniel6606/CH.1-/blob/main/Untitled1.ipynb\" target=\"_parent\"><img src=\"https://colab.research.google.com/assets/colab-badge.svg\" alt=\"Open In Colab\"/></a>"
      ]
    },
    {
      "cell_type": "markdown",
      "metadata": {
        "id": "HDAKYAv0i7cF"
      },
      "source": [
        ""
      ]
    },
    {
      "cell_type": "code",
      "metadata": {
        "id": "VUpCIpWYhw3B",
        "outputId": "c31295ab-b95a-4f78-cb51-03fe2434ae8c",
        "colab": {
          "base_uri": "https://localhost:8080/"
        }
      },
      "source": [
        " first = int(input(\"請輸入第一次期中考成績? \"))\n",
        " second = int(input(\"請輸入第二次期中考成績? \"))\n",
        " final = int(input(\"請輸入期末成績? \"))\n",
        " total = first + second + final\n",
        " average = total / 3\n",
        " print(\"總分為\", total, \"平均為\", average)"
      ],
      "execution_count": 10,
      "outputs": [
        {
          "output_type": "stream",
          "text": [
            "請輸入第一次期中考成績? 75\n",
            "請輸入第二次期中考成績? 80\n",
            "請輸入期末成績? 65\n",
            "總分為 220 平均為 73.33333333333333\n"
          ],
          "name": "stdout"
        }
      ]
    }
  ]
}