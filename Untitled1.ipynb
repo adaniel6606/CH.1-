{
  "nbformat": 4,
  "nbformat_minor": 0,
  "metadata": {
    "colab": {
      "name": "Untitled1.ipynb",
      "provenance": [],
      "authorship_tag": "ABX9TyOc7KQzxGCxjiouAkX1jf9Y",
      "include_colab_link": true
    },
    "kernelspec": {
      "name": "python3",
      "display_name": "Python 3"
    }
  },
  "cells": [
    {
      "cell_type": "markdown",
      "metadata": {
        "id": "view-in-github",
        "colab_type": "text"
      },
      "source": [
        "<a href=\"https://colab.research.google.com/github/adaniel6606/CH.1-/blob/main/Untitled1.ipynb\" target=\"_parent\"><img src=\"https://colab.research.google.com/assets/colab-badge.svg\" alt=\"Open In Colab\"/></a>"
      ]
    },
    {
      "cell_type": "code",
      "metadata": {
        "id": "a9DHhdBigkef",
        "outputId": "9e124972-eaef-415f-8244-47d05a65a8a3",
        "colab": {
          "base_uri": "https://localhost:8080/",
          "height": 131
        }
      },
      "source": [
        "1 Cans = int(input(\"請輸入購買的飲料罐數? \"))\n",
        "2 Total = (Cans//12)*200 + (Can%12)*20\n",
        "3 print (\"需花費\",Total)"
      ],
      "execution_count": 1,
      "outputs": [
        {
          "output_type": "error",
          "ename": "SyntaxError",
          "evalue": "ignored",
          "traceback": [
            "\u001b[0;36m  File \u001b[0;32m\"<ipython-input-1-1fe521cbb516>\"\u001b[0;36m, line \u001b[0;32m1\u001b[0m\n\u001b[0;31m    1 Cans = int(input(\"請輸入購買的飲料罐數? \"))\u001b[0m\n\u001b[0m         ^\u001b[0m\n\u001b[0;31mSyntaxError\u001b[0m\u001b[0;31m:\u001b[0m invalid syntax\n"
          ]
        }
      ]
    },
    {
      "cell_type": "code",
      "metadata": {
        "id": "6IjgMZTxjP5h",
        "outputId": "e69ca20c-7441-419a-8c1d-06f97c8f327a",
        "colab": {
          "base_uri": "https://localhost:8080/"
        }
      },
      "source": [
        " Cans = int(input(\"請輸入購買的飲料罐數? \"))"
      ],
      "execution_count": 3,
      "outputs": [
        {
          "output_type": "stream",
          "text": [
            "請輸入購買的飲料罐數? 5\n"
          ],
          "name": "stdout"
        }
      ]
    },
    {
      "cell_type": "code",
      "metadata": {
        "id": "LURKPGTFjW2p"
      },
      "source": [
        "Total = (Cans//12) * 200 + (Cans%12) * 20"
      ],
      "execution_count": 5,
      "outputs": []
    },
    {
      "cell_type": "markdown",
      "metadata": {
        "id": "HDAKYAv0i7cF"
      },
      "source": [
        ""
      ]
    },
    {
      "cell_type": "code",
      "metadata": {
        "id": "VUpCIpWYhw3B",
        "outputId": "8fcdad09-abb8-49c7-ee88-c0a8fe7c9762",
        "colab": {
          "base_uri": "https://localhost:8080/",
          "height": 131
        }
      },
      "source": [
        "1 first = int(input(\"請輸入第一次期中考成績? \"))\n",
        "2 second = int(input(\"請輸入第二次期中考成績? \"))\n",
        "3 final = int(input(\"請輸入期末成績? \"))\n",
        "4 toatl = first + secord + finall\n",
        "5 average = total / 3\n",
        "6 print(\"總分為\", total, \"平均為\", average)"
      ],
      "execution_count": 2,
      "outputs": [
        {
          "output_type": "error",
          "ename": "SyntaxError",
          "evalue": "ignored",
          "traceback": [
            "\u001b[0;36m  File \u001b[0;32m\"<ipython-input-2-06cf087204d0>\"\u001b[0;36m, line \u001b[0;32m1\u001b[0m\n\u001b[0;31m    1 first = int(input(\"請輸入第一次期中考成績? \"))\u001b[0m\n\u001b[0m          ^\u001b[0m\n\u001b[0;31mSyntaxError\u001b[0m\u001b[0;31m:\u001b[0m invalid syntax\n"
          ]
        }
      ]
    }
  ]
}